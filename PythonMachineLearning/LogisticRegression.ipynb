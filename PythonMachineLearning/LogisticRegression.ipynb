{
 "cells": [
  {
   "cell_type": "markdown",
   "metadata": {},
   "source": [
    "Logistic regression aims to solve classification problems. It does this by predicting categorical outcomes, unlike linear regression that predicts a continuous outcome.\n",
    "\n",
    "In the simplest case there are two outcomes, which is called binomial\n",
    "\n",
    "Other cases have more than two outcomes to classify, in this case it is called multinomial"
   ]
  },
  {
   "cell_type": "code",
   "execution_count": 2,
   "metadata": {},
   "outputs": [
    {
     "name": "stdout",
     "output_type": "stream",
     "text": [
      "[0]\n"
     ]
    }
   ],
   "source": [
    "import numpy\n",
    "from sklearn import linear_model\n",
    "\n",
    "#Reshaped for Logistic function.\n",
    "#X represents the size of a tumor in centimeters.\n",
    "X = numpy.array([3.78, 2.44, 2.09, 0.14, 1.72, 1.65, 4.92, 4.37, 4.96, 4.52, 3.69, 5.88]).reshape(-1,1)\n",
    "##Note: X has to be reshaped into a column from a row for the LogisticRegression() function to work.\n",
    "#y represents whether or not the tumor is cancerous (0 for \"No\", 1 for \"Yes\")\n",
    "y = numpy.array([0, 0, 0, 0, 0, 0, 1, 1, 1, 1, 1, 1])\n",
    "\n",
    "logr = linear_model.LogisticRegression()\n",
    "logr.fit(X,y)\n",
    "\n",
    "#predict if tumor is cancerous where the size is 3.46mm:\n",
    "predicted = logr.predict(numpy.array([3.46]).reshape(-1,1))\n",
    "print(predicted)"
   ]
  },
  {
   "cell_type": "markdown",
   "metadata": {},
   "source": [
    "We have predicted that a tumor with a size of 3.46mm will not be cancerous"
   ]
  },
  {
   "cell_type": "markdown",
   "metadata": {},
   "source": [
    "In logistic regression the coefficient is the expected change in log-odds of having the outcome per unit change in X."
   ]
  },
  {
   "cell_type": "code",
   "execution_count": 3,
   "metadata": {},
   "outputs": [
    {
     "name": "stdout",
     "output_type": "stream",
     "text": [
      "[[4.03541657]]\n"
     ]
    }
   ],
   "source": [
    "import numpy\n",
    "from sklearn import linear_model\n",
    "\n",
    "#Reshaped for Logistic function.\n",
    "X = numpy.array([3.78, 2.44, 2.09, 0.14, 1.72, 1.65, 4.92, 4.37, 4.96, 4.52, 3.69, 5.88]).reshape(-1,1)\n",
    "y = numpy.array([0, 0, 0, 0, 0, 0, 1, 1, 1, 1, 1, 1])\n",
    "\n",
    "logr = linear_model.LogisticRegression()\n",
    "logr.fit(X,y)\n",
    "\n",
    "log_odds = logr.coef_\n",
    "odds = numpy.exp(log_odds)\n",
    "\n",
    "print(odds)"
   ]
  },
  {
   "cell_type": "markdown",
   "metadata": {},
   "source": [
    "This tells us that as the size of a tumor increases by 1mm the odds of it being a cancerous tumor increases by 4x."
   ]
  },
  {
   "cell_type": "markdown",
   "metadata": {},
   "source": [
    "The coefficient and intercept values can be used to find the probability that each tumor is cancerous."
   ]
  },
  {
   "cell_type": "code",
   "execution_count": 5,
   "metadata": {},
   "outputs": [
    {
     "name": "stdout",
     "output_type": "stream",
     "text": [
      "[[0.60749955]\n",
      " [0.19268876]\n",
      " [0.12775886]\n",
      " [0.00955221]\n",
      " [0.08038616]\n",
      " [0.07345637]\n",
      " [0.88362743]\n",
      " [0.77901378]\n",
      " [0.88924409]\n",
      " [0.81293497]\n",
      " [0.57719129]\n",
      " [0.96664243]]\n"
     ]
    }
   ],
   "source": [
    "import numpy\n",
    "from sklearn import linear_model\n",
    "\n",
    "X = numpy.array([3.78, 2.44, 2.09, 0.14, 1.72, 1.65, 4.92, 4.37, 4.96, 4.52, 3.69, 5.88]).reshape(-1,1)\n",
    "y = numpy.array([0, 0, 0, 0, 0, 0, 1, 1, 1, 1, 1, 1])\n",
    "\n",
    "logr = linear_model.LogisticRegression()\n",
    "logr.fit(X,y)\n",
    "\n",
    "#function that uses the model's coefficient and intercept values to return a new value.\n",
    "#This new value represents probability that the given observation is a tumor\n",
    "def logit2prob(logr, X):\n",
    "  log_odds = logr.coef_ * X + logr.intercept_\n",
    "  odds = numpy.exp(log_odds)\n",
    "  probability = odds / (1 + odds)\n",
    "  return(probability)\n",
    "\n",
    "print(logit2prob(logr, X))"
   ]
  },
  {
   "cell_type": "markdown",
   "metadata": {},
   "source": [
    "3.78 0.61 The probability that a tumor with the size 3.78cm is cancerous is 61%.\n",
    "\n",
    "2.44 0.19 The probability that a tumor with the size 2.44cm is cancerous is 19%.\n",
    "\n",
    "2.09 0.12 The probability that a tumor with the size 2.09cm is cancerous is 12%."
   ]
  }
 ],
 "metadata": {
  "kernelspec": {
   "display_name": "base",
   "language": "python",
   "name": "python3"
  },
  "language_info": {
   "codemirror_mode": {
    "name": "ipython",
    "version": 3
   },
   "file_extension": ".py",
   "mimetype": "text/x-python",
   "name": "python",
   "nbconvert_exporter": "python",
   "pygments_lexer": "ipython3",
   "version": "3.11.5"
  }
 },
 "nbformat": 4,
 "nbformat_minor": 2
}
