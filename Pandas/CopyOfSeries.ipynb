{
 "cells": [
  {
   "cell_type": "markdown",
   "metadata": {},
   "source": [
    "Series.copy() method: This method can be used to make a copy of the Series object’s indices and its data before doing any manipulation or changes to the Series. It returns the Series object which is the copy of the caller Series.\n",
    "\n",
    "Syntax\n",
    "\n",
    "Series.copy(deep=True)\n",
    "\n",
    "Parameters\n",
    "\n",
    "deep: It represents the bool(True or False), and the default is True. It makes a deep copy of the Series, including a copy of the data and the indices. When deep=False neither the indices nor the data are copied."
   ]
  },
  {
   "cell_type": "code",
   "execution_count": 1,
   "metadata": {},
   "outputs": [
    {
     "name": "stdout",
     "output_type": "stream",
     "text": [
      "-------The series is------\n",
      "0    1.0\n",
      "1    2.0\n",
      "2    NaN\n",
      "3    4.0\n",
      "dtype: float64\n",
      "--------copy of the series is-------\n",
      "0    1.0\n",
      "1    2.0\n",
      "2    NaN\n",
      "3    4.0\n",
      "dtype: float64\n"
     ]
    }
   ],
   "source": [
    "#importing pandas as pd\n",
    "import pandas as pd\n",
    "#importing numpy as np\n",
    "import numpy as np\n",
    "series_1 = pd.Series([1,2,np.nan,4])\n",
    "print(\"-------The series is------\")\n",
    "print(series_1)\n",
    "print(\"--------copy of the series is-------\")\n",
    "series_2=series_1.copy()\n",
    "print(series_2)"
   ]
  },
  {
   "cell_type": "code",
   "execution_count": 2,
   "metadata": {},
   "outputs": [
    {
     "name": "stdout",
     "output_type": "stream",
     "text": [
      "-------The series is------\n",
      "0    1.0\n",
      "1    2.0\n",
      "2    NaN\n",
      "3    4.0\n",
      "dtype: float64\n",
      "--------copy of the series is-------\n",
      "0    1.0\n",
      "1    2.0\n",
      "2    3.0\n",
      "3    4.0\n",
      "dtype: float64\n"
     ]
    }
   ],
   "source": [
    "#importing pandas as pd\n",
    "import pandas as pd\n",
    "#importing numpy as np\n",
    "import numpy as np\n",
    "series_1 = pd.Series([1,2,np.nan,4])\n",
    "print(\"-------The series is------\")\n",
    "print(series_1)\n",
    "print(\"--------copy of the series is-------\")\n",
    "series_2=series_1.copy()\n",
    "series_2[2]=3\n",
    "print(series_2)"
   ]
  }
 ],
 "metadata": {
  "kernelspec": {
   "display_name": "base",
   "language": "python",
   "name": "python3"
  },
  "language_info": {
   "codemirror_mode": {
    "name": "ipython",
    "version": 3
   },
   "file_extension": ".py",
   "mimetype": "text/x-python",
   "name": "python",
   "nbconvert_exporter": "python",
   "pygments_lexer": "ipython3",
   "version": "3.11.5"
  }
 },
 "nbformat": 4,
 "nbformat_minor": 2
}
