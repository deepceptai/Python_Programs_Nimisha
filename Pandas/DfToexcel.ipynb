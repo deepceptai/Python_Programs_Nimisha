{
 "cells": [
  {
   "cell_type": "markdown",
   "metadata": {},
   "source": [
    "Convert DataFrame to an excel file\n",
    "\n",
    "Syntax:\n",
    "\n",
    "data.to_excel( excel_writer, sheet_name='Sheet1', \\*\\*kwargs )\n",
    "\n",
    "Parameters:\n",
    "\n",
    "excel_writer: It accepts a string or ExcelWriter object. It specifies the path of the file to be written or an existing ExcelWriter object.\n",
    "\n",
    "sheet_name: It accepts a string value. The default value is set to ‘Sheet1’. It specifies the name of the sheet that will contain the DataFrame."
   ]
  },
  {
   "cell_type": "code",
   "execution_count": 1,
   "metadata": {},
   "outputs": [
    {
     "name": "stdout",
     "output_type": "stream",
     "text": [
      "DataFrame is written to Excel File successfully.\n"
     ]
    }
   ],
   "source": [
    "# importing the module\n",
    "import pandas as pd\n",
    "\n",
    "# creating the DataFrame\n",
    "marks_data = pd.DataFrame({'ID': {0: 23, 1: 43, 2: 12,\n",
    "\t\t\t\t\t\t\t\t3: 13, 4: 67, 5: 89,\n",
    "\t\t\t\t\t\t\t\t6: 90, 7: 56, 8: 34},\n",
    "\t\t\t\t\t\t'Name': {0: 'Ram', 1: 'Deep',\n",
    "\t\t\t\t\t\t\t\t2: 'Yash', 3: 'Aman',\n",
    "\t\t\t\t\t\t\t\t4: 'Arjun', 5: 'Aditya',\n",
    "\t\t\t\t\t\t\t\t6: 'Divya', 7: 'Chalsea',\n",
    "\t\t\t\t\t\t\t\t8: 'Akash' },\n",
    "\t\t\t\t\t\t'Marks': {0: 89, 1: 97, 2: 45, 3: 78,\n",
    "\t\t\t\t\t\t\t\t\t4: 56, 5: 76, 6: 100, 7: 87,\n",
    "\t\t\t\t\t\t\t\t\t8: 81},\n",
    "\t\t\t\t\t\t'Grade': {0: 'B', 1: 'A', 2: 'F', 3: 'C',\n",
    "\t\t\t\t\t\t\t\t\t4: 'E', 5: 'C', 6: 'A', 7: 'B',\n",
    "\t\t\t\t\t\t\t\t\t8: 'B'}})\n",
    "\n",
    "# determining the name of the file\n",
    "file_name = 'MarksData.xlsx'\n",
    "\n",
    "# saving the excel\n",
    "marks_data.to_excel(file_name)\n",
    "print('DataFrame is written to Excel File successfully.')\n"
   ]
  }
 ],
 "metadata": {
  "kernelspec": {
   "display_name": "base",
   "language": "python",
   "name": "python3"
  },
  "language_info": {
   "codemirror_mode": {
    "name": "ipython",
    "version": 3
   },
   "file_extension": ".py",
   "mimetype": "text/x-python",
   "name": "python",
   "nbconvert_exporter": "python",
   "pygments_lexer": "ipython3",
   "version": "3.11.5"
  }
 },
 "nbformat": 4,
 "nbformat_minor": 2
}
