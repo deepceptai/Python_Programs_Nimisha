{
 "cells": [
  {
   "cell_type": "markdown",
   "metadata": {},
   "source": [
    "DataFrame - It is a two-dimensional array-like structure with heterogeneous data. It can contain data of different data types and the data is aligned in a tabular manner. Both size and values of DataFrame are mutable.\n",
    "\n",
    "The syntax for creating a dataframe:\n",
    "\n",
    "import pandas as pd\n",
    "\n",
    "dataframe = pd.DataFrame( data, index, columns, dtype)\n",
    "\n",
    "Here:\n",
    "data - It represents various forms like series, map, ndarray, lists, dict, etc.\n",
    "index - It is an optional argument that represents an index to row labels.\n",
    "columns - Optional argument for column labels.\n",
    "Dtype - It represents the data type of each column. It is an optional parameter"
   ]
  },
  {
   "cell_type": "markdown",
   "metadata": {},
   "source": [
    "Different ways in which a dataframe can be created:\n",
    "    \n",
    "    1.Creating an empty dataframe: A basic DataFrame, which can be created is an Empty Dataframe. An Empty Dataframe is created just by calling a pandas.DataFrame() constructor."
   ]
  },
  {
   "cell_type": "code",
   "execution_count": 1,
   "metadata": {},
   "outputs": [
    {
     "name": "stdout",
     "output_type": "stream",
     "text": [
      "Empty DataFrame\n",
      "Columns: []\n",
      "Index: []\n"
     ]
    }
   ],
   "source": [
    "# Importing Pandas to create DataFrame\n",
    "import pandas as pd\n",
    "\n",
    "# Creating Empty DataFrame and Storing it in variable df\n",
    "df = pd.DataFrame()\n",
    "\n",
    "# Printing Empty DataFrame\n",
    "print(df)"
   ]
  },
  {
   "cell_type": "markdown",
   "metadata": {},
   "source": [
    "    2.Creating a dataframe using List: DataFrame can be created using a single list or by using a list of lists."
   ]
  },
  {
   "cell_type": "code",
   "execution_count": 2,
   "metadata": {},
   "outputs": [
    {
     "name": "stdout",
     "output_type": "stream",
     "text": [
      "   Amounts\n",
      "0      110\n",
      "1      202\n",
      "2      303\n",
      "3      404\n",
      "4      550\n",
      "5      650\n"
     ]
    }
   ],
   "source": [
    "# Import pandas library\n",
    "import pandas as pd\n",
    "\n",
    "# initialize list elements\n",
    "data = [110,202,303,404,550,650]\n",
    "\n",
    "# Create the pandas DataFrame with the column name provided explicitly\n",
    "df = pd.DataFrame(data, columns=['Amounts'])\n",
    "\n",
    "# print dataframe.\n",
    "print(df)"
   ]
  },
  {
   "cell_type": "code",
   "execution_count": 3,
   "metadata": {},
   "outputs": [
    {
     "name": "stdout",
     "output_type": "stream",
     "text": [
      "   Name  Age\n",
      "0  mark   20\n",
      "1  zack   16\n",
      "2   ron   24\n"
     ]
    }
   ],
   "source": [
    "# Import pandas library\n",
    "import pandas as pd\n",
    "\n",
    "# initialize list of lists\n",
    "data = [['mark', 20], ['zack', 16], ['ron', 24]]\n",
    "\n",
    "# Create the pandas DataFrame\n",
    "df = pd.DataFrame(data, columns=['Name', 'Age'])\n",
    "\n",
    "# print dataframe.\n",
    "print(df)"
   ]
  },
  {
   "cell_type": "markdown",
   "metadata": {},
   "source": [
    "    3.Creating DataFrame from dict of ndarray/lists: To create a DataFrame from dict of narray/list there are a few conditions to be met.\n",
    "First, all the arrays must be of the same length.\n",
    "Second, if the index is passed then the length index should be equal to the length of arrays.\n",
    "Third, if no index is passed, then by default, the index will be in the range(n) where n is the length of the array."
   ]
  },
  {
   "cell_type": "code",
   "execution_count": 5,
   "metadata": {},
   "outputs": [
    {
     "name": "stdout",
     "output_type": "stream",
     "text": [
      "     Name  Age\n",
      "0     Max   10\n",
      "1    Lara   31\n",
      "2    Koke   91\n",
      "3  Muller   48\n"
     ]
    }
   ],
   "source": [
    "# Python code demonstrates creating\n",
    "# DataFrame from dict narray / lists\n",
    "# By default addresses.\n",
    "import pandas as pd\n",
    "\n",
    "# initialize data of lists.\n",
    "data = {'Name': ['Max', 'Lara', 'Koke', 'Muller'], 'Age': [10, 31, 91, 48]}\n",
    "\n",
    "# Create DataFrame\n",
    "df = pd.DataFrame(data)\n",
    "\n",
    "# Print the output.\n",
    "print(df)"
   ]
  },
  {
   "cell_type": "markdown",
   "metadata": {},
   "source": [
    "    4.Create pandas dataframe from lists using a dictionary: We can create pandas DataFrame from lists using a dictionary by using pandas.DataFrame()."
   ]
  },
  {
   "cell_type": "code",
   "execution_count": 6,
   "metadata": {},
   "outputs": [
    {
     "name": "stdout",
     "output_type": "stream",
     "text": [
      "   aa  bs  cd\n",
      "0   1   2   3\n",
      "1  10  20  30\n"
     ]
    }
   ],
   "source": [
    "# Python code demonstrates how to create\n",
    "# Pandas DataFrame by lists of dicts.\n",
    "import pandas as pd\n",
    "\n",
    "# Initialize data to lists.\n",
    "data = [{'aa': 1, 'bs': 2, 'cd': 3}, {'aa': 10, 'bs': 20, 'cd': 30}]\n",
    "\n",
    "# Creates DataFrame.\n",
    "df = pd.DataFrame(data)\n",
    "\n",
    "# Print the data\n",
    "print(df)"
   ]
  },
  {
   "cell_type": "markdown",
   "metadata": {},
   "source": [
    "    5.Creating dataframe from series: In order to create a dataframe using series the argument to be passed in a DataFrame() function has to be a Series."
   ]
  },
  {
   "cell_type": "code",
   "execution_count": 7,
   "metadata": {},
   "outputs": [
    {
     "name": "stdout",
     "output_type": "stream",
     "text": [
      "    0\n",
      "0  10\n",
      "1  20\n",
      "2  30\n",
      "3  40\n"
     ]
    }
   ],
   "source": [
    "# Python code demonstrates creating\n",
    "# Pandas Dataframe from series.\n",
    "import pandas as pd\n",
    "\n",
    "# Initialize data to series.\n",
    "d = pd.Series([10, 20, 30, 40])\n",
    "# create Dataframe.\n",
    "df = pd.DataFrame(d)\n",
    "# print the data.\n",
    "print(df)"
   ]
  },
  {
   "cell_type": "markdown",
   "metadata": {},
   "source": [
    "    6.Creating DataFrame from Dictionary of series: To create a DataFrame from Dict of series, a dictionary needs to be passed as an argument to form a DataFrame. The resultant index is the union of all the series of passed indexed."
   ]
  },
  {
   "cell_type": "code",
   "execution_count": 8,
   "metadata": {},
   "outputs": [
    {
     "name": "stdout",
     "output_type": "stream",
     "text": [
      "   one  two\n",
      "a   10   10\n",
      "b   20   20\n",
      "c   30   30\n",
      "d   40   40\n"
     ]
    }
   ],
   "source": [
    "# Python code demonstrate creating\n",
    "# Pandas Dataframe from Dicts of series.\n",
    "\n",
    "import pandas as pd\n",
    "\n",
    "# Initialize data to Dicts of series.\n",
    "d = {'one': pd.Series([10, 20, 30, 40],\n",
    "\t\t\t\t\tindex=['a', 'b', 'c', 'd']),\n",
    "\t'two': pd.Series([10, 20, 30, 40],\n",
    "\t\t\t\t\tindex=['a', 'b', 'c', 'd'])}\n",
    "\n",
    "# creates Dataframe.\n",
    "df = pd.DataFrame(d)\n",
    "\n",
    "# print the data.\n",
    "print(df)"
   ]
  }
 ],
 "metadata": {
  "kernelspec": {
   "display_name": "base",
   "language": "python",
   "name": "python3"
  },
  "language_info": {
   "codemirror_mode": {
    "name": "ipython",
    "version": 3
   },
   "file_extension": ".py",
   "mimetype": "text/x-python",
   "name": "python",
   "nbconvert_exporter": "python",
   "pygments_lexer": "ipython3",
   "version": "3.11.5"
  }
 },
 "nbformat": 4,
 "nbformat_minor": 2
}
