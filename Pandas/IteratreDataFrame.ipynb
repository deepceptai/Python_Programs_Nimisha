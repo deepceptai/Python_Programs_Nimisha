{
 "cells": [
  {
   "cell_type": "markdown",
   "metadata": {},
   "source": [
    "Iterate over rows in a DataFrame in Pandas\n",
    "\n",
    "lthough it is not a good practice to iterate over rows in Pandas if there is no other alternative we do so using either \n",
    "iterrows() or itertuples() built-in methods.\n"
   ]
  },
  {
   "cell_type": "markdown",
   "metadata": {},
   "source": [
    "pandas.DataFrame.iterrows(): This method is used to iterate over DataFrame rows as (index, Series) pairs. There is only one drawback for this method it does not preserve the dtypes across rows due to the fact that it converts each row into a Series. If you need to preserve the dtypes of the pandas object, then one should use itertuples() method instead.\n"
   ]
  },
  {
   "cell_type": "code",
   "execution_count": 1,
   "metadata": {},
   "outputs": [
    {
     "name": "stdout",
     "output_type": "stream",
     "text": [
      "Given Dataframe :\n",
      "      Name  Age      Stream  Percentage\n",
      "0   Sneha   22    Computer          89\n",
      "1  Shreya   18    Commerce          93\n",
      "2  Sabhya   10        Arts          97\n",
      "3    Riya   19  Mechanical          73\n",
      "\n",
      "Iterating over rows using iterrows() method :\n",
      "\n",
      "Sneha 22\n",
      "Shreya 18\n",
      "Sabhya 10\n",
      "Riya 19\n"
     ]
    }
   ],
   "source": [
    "# import pandas package as pd\n",
    "import pandas as pd\n",
    "\n",
    "# Define a dictionary containing students data\n",
    "data = {'Name': ['Sneha', 'Shreya',\n",
    "\t\t\t\t'Sabhya', 'Riya'],\n",
    "\t\t'Age': [22, 18, 10, 19],\n",
    "\t\t'Stream': ['Computer', 'Commerce',\n",
    "\t\t\t\t'Arts', 'Mechanical'],\n",
    "\t\t'Percentage': [89, 93, 97, 73]}\n",
    "\n",
    "# Convert the dictionary into DataFrame\n",
    "df = pd.DataFrame(data, columns=['Name', 'Age',\n",
    "\t\t\t\t\t\t\t\t'Stream', 'Percentage'])\n",
    "\n",
    "print(\"Given Dataframe :\\n\", df)\n",
    "\n",
    "print(\"\\nIterating over rows using iterrows() method :\\n\")\n",
    "\n",
    "# iterate through each row and select\n",
    "# 'Name' and 'Age' columns respectively.\n",
    "for index, row in df.iterrows():\n",
    "\tprint(row[\"Name\"], row[\"Age\"])"
   ]
  },
  {
   "cell_type": "markdown",
   "metadata": {},
   "source": [
    "pandas.DataFrame.itertuples(): This method is used to iterate over DataFrame rows as namedtuples. Also, itertuples() are faster than compared to iterrows()"
   ]
  },
  {
   "cell_type": "code",
   "execution_count": 3,
   "metadata": {},
   "outputs": [
    {
     "name": "stdout",
     "output_type": "stream",
     "text": [
      "Given Dataframe :\n",
      "      Name  Age      Stream  Percentage\n",
      "0   Sneha   22    Computer          89\n",
      "1  Shreya   18    Commerce          93\n",
      "2  Sabhya   10        Arts          97\n",
      "3    Riya   19  Mechanical          73\n",
      "\n",
      "Iterating over rows using itertuples() method :\n",
      "\n",
      "Sneha 89\n",
      "Shreya 93\n",
      "Sabhya 97\n",
      "Riya 73\n"
     ]
    }
   ],
   "source": [
    "# import pandas package as pd\n",
    "import pandas as pd\n",
    "\n",
    "# Define a dictionary containing students data\n",
    "data = {'Name': ['Sneha', 'Shreya',\n",
    "\t\t\t\t'Sabhya', 'Riya'],\n",
    "\t\t'Age': [22, 18, 10, 19],\n",
    "\t\t'Stream': ['Computer', 'Commerce',\n",
    "\t\t\t\t'Arts', 'Mechanical'],\n",
    "\t\t'Percentage': [89, 93, 97, 73]}\n",
    "\n",
    "# Convert the dictionary into DataFrame\n",
    "df = pd.DataFrame(data, columns=['Name', 'Age',\n",
    "\t\t\t\t\t\t\t\t'Stream', 'Percentage'])\n",
    "\n",
    "print(\"Given Dataframe :\\n\", df)\n",
    "print(\"\\nIterating over rows using itertuples() method :\\n\")\n",
    "  \n",
    "# iterate through each row and select\n",
    "# 'Name' and 'Percentage' column respectively.\n",
    "for row in df.itertuples(index=True, name='Pandas'):\n",
    "    print(getattr(row, \"Name\"), getattr(row, \"Percentage\"))"
   ]
  }
 ],
 "metadata": {
  "kernelspec": {
   "display_name": "base",
   "language": "python",
   "name": "python3"
  },
  "language_info": {
   "codemirror_mode": {
    "name": "ipython",
    "version": 3
   },
   "file_extension": ".py",
   "mimetype": "text/x-python",
   "name": "python",
   "nbconvert_exporter": "python",
   "pygments_lexer": "ipython3",
   "version": "3.11.5"
  }
 },
 "nbformat": 4,
 "nbformat_minor": 2
}
