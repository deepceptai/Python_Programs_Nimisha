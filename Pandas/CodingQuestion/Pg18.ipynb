{
 "cells": [
  {
   "cell_type": "markdown",
   "metadata": {},
   "source": [
    "7. Compare the Pandas methods: map(), applymap(), apply()"
   ]
  },
  {
   "cell_type": "markdown",
   "metadata": {},
   "source": [
    "The map() method is an elementwise method for only Pandas Series, it maps values of the Series according to input correspondence."
   ]
  },
  {
   "cell_type": "code",
   "execution_count": 1,
   "metadata": {},
   "outputs": [
    {
     "name": "stdout",
     "output_type": "stream",
     "text": [
      "Original series\n",
      "s\n",
      "c\n",
      "a\n",
      "l\n",
      "a\n",
      "r\n",
      "\n",
      "Transformed series:\n",
      "S\n",
      "C\n",
      "A\n",
      "L\n",
      "A\n",
      "R\n",
      "\n"
     ]
    }
   ],
   "source": [
    "import pandas as pd\n",
    " \n",
    "# Series generation\n",
    "str_string = 'scalar'\n",
    "str_series = pd.Series(list(str_string))\n",
    "print(\"Original series\\n\" +\n",
    "      str_series.to_string(index=False, header=False), end='\\n\\n')\n",
    " \n",
    "# Using apply method for converting characters\n",
    "# present in the original series\n",
    "new_str_series = str_series.map(str.upper)\n",
    "print(\"Transformed series:\\n\" + new_str_series.to_string(index=False, header=False), end='\\n\\n')"
   ]
  },
  {
   "cell_type": "markdown",
   "metadata": {},
   "source": [
    "The applymap() method is an elementwise function for only DataFrames, it applies a function that accepts and returns a scalar to every element of a DataFrame."
   ]
  },
  {
   "cell_type": "code",
   "execution_count": 1,
   "metadata": {},
   "outputs": [
    {
     "name": "stdout",
     "output_type": "stream",
     "text": [
      "   X  Y  Z\n",
      "0  a  b  c\n",
      "1  d  e  f\n",
      "Transformed dataframe:\n",
      "A B C\n",
      "D E F\n",
      "\n"
     ]
    }
   ],
   "source": [
    "import pandas as pd\n",
    "\n",
    "# initialize a dataframe\n",
    "df = pd.DataFrame(\n",
    "\t[['a', 'b', 'c'],\n",
    "\t['d','e','f'],\n",
    "\t],\n",
    "\tcolumns=['X', 'Y', 'Z'])\n",
    "\n",
    "print(df)\n",
    "\n",
    "new_df = df.applymap(str.upper)\n",
    "print(\"Transformed dataframe:\\n\" +\n",
    "      new_df.to_string(index=False,\n",
    "                           header=False), end='\\n\\n')"
   ]
  },
  {
   "cell_type": "markdown",
   "metadata": {},
   "source": [
    "The apply() method also works elementwise, as it applies a function along the input axis of DataFrame. It is suited to more complex operations and aggregation."
   ]
  },
  {
   "cell_type": "code",
   "execution_count": 2,
   "metadata": {},
   "outputs": [
    {
     "name": "stdout",
     "output_type": "stream",
     "text": [
      "    X   Y   Z\n",
      "0  10  12  33\n",
      "1  41  53  66\n",
      "2  17  81  19\n",
      "3  10  11  12\n",
      "Transformed dataframe:\n",
      "10 12 33\n",
      "41 53 66\n",
      "17 81 19\n",
      "10 11 12\n",
      "\n"
     ]
    }
   ],
   "source": [
    "import pandas as pd\n",
    "\n",
    "# initialize a dataframe\n",
    "df = pd.DataFrame(\n",
    "\t[[10, 12, 33],\n",
    "\t[41, 53, 66],\n",
    "\t[17, 81, 19],\n",
    "\t[10, 11, 12]],\n",
    "\tcolumns=['X', 'Y', 'Z'])\n",
    "\n",
    "print(df)\n",
    "\n",
    "new_df = df.apply(lambda x:x.sort_values(), axis = 1)\n",
    " \n",
    "print(\"Transformed dataframe:\\n\" + \\\n",
    "    new_df.to_string(index = False,\n",
    "            header = False), end = '\\n\\n')"
   ]
  }
 ],
 "metadata": {
  "kernelspec": {
   "display_name": "base",
   "language": "python",
   "name": "python3"
  },
  "language_info": {
   "codemirror_mode": {
    "name": "ipython",
    "version": 3
   },
   "file_extension": ".py",
   "mimetype": "text/x-python",
   "name": "python",
   "nbconvert_exporter": "python",
   "pygments_lexer": "ipython3",
   "version": "3.11.5"
  }
 },
 "nbformat": 4,
 "nbformat_minor": 2
}
