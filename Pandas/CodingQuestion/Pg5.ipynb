{
 "cells": [
  {
   "cell_type": "markdown",
   "metadata": {},
   "source": [
    "5. How will you compute the percentile of a numerical series in Pandas?\n",
    "\n",
    "In order to compute percentile we use numpy.percentile() method.\n",
    "\n",
    "Syntax:\n",
    "\n",
    "numpy.percentile(a, q, axis=None, out=None, overwrite_input=False, method='linear', keepdims=False, *, interpolation=None)"
   ]
  },
  {
   "cell_type": "code",
   "execution_count": 1,
   "metadata": {},
   "outputs": [
    {
     "name": "stdout",
     "output_type": "stream",
     "text": [
      "10.8\n",
      "60.0\n",
      "86.19999999999999\n"
     ]
    }
   ],
   "source": [
    "import pandas as pd\n",
    "import random\n",
    "\n",
    "A = [ random.randint(0,100) for i in range(10) ]\n",
    "B = [ random.randint(0,100) for i in range(10) ]\n",
    "\n",
    "df = pd.DataFrame({ 'field_A': A, 'field_B': B })\n",
    "df\n",
    "\n",
    "print(df.field_A.quantile(0.1)) # 10th percentile\n",
    "\n",
    "\n",
    "print(df.field_A.quantile(0.5)) # same as median\n",
    "\n",
    "print(df.field_A.quantile(0.9)) # 90th percentile"
   ]
  }
 ],
 "metadata": {
  "kernelspec": {
   "display_name": "base",
   "language": "python",
   "name": "python3"
  },
  "language_info": {
   "codemirror_mode": {
    "name": "ipython",
    "version": 3
   },
   "file_extension": ".py",
   "mimetype": "text/x-python",
   "name": "python",
   "nbconvert_exporter": "python",
   "pygments_lexer": "ipython3",
   "version": "3.11.5"
  }
 },
 "nbformat": 4,
 "nbformat_minor": 2
}
