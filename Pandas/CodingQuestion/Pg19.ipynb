{
 "cells": [
  {
   "cell_type": "markdown",
   "metadata": {},
   "source": [
    "When to use merge() over concat() and vice-versa in Pandas?\n",
    "\n",
    "The use of concat() function comes into play when combining homogeneous DataFrame, while the merge() function is considered first when combining complementary DataFrame."
   ]
  },
  {
   "cell_type": "code",
   "execution_count": 2,
   "metadata": {},
   "outputs": [
    {
     "name": "stdout",
     "output_type": "stream",
     "text": [
      "  Key  data1  data2\n",
      "0   b      0      1\n",
      "1   b      1      1\n",
      "2   a      2      0\n",
      "  Key  data1  data2\n",
      "0   b    0.0    NaN\n",
      "1   b    1.0    NaN\n",
      "2   a    2.0    NaN\n",
      "3   c    3.0    NaN\n",
      "0   a    NaN    0.0\n",
      "1   b    NaN    1.0\n",
      "2   d    NaN    2.0\n"
     ]
    }
   ],
   "source": [
    "import pandas as pd\n",
    "\n",
    "df1 = pd.DataFrame({'Key': ['b', 'b', 'a', 'c'], 'data1': range(4)})\n",
    "\n",
    "df2 = pd.DataFrame({'Key': ['a', 'b', 'd'], 'data2': range(3)})\n",
    "\n",
    "#Merge\n",
    "# The 2 dataframes are merged on the basis of values in column \"Key\" as it is \n",
    "# a common column in 2 dataframes\n",
    "\n",
    "print(pd.merge(df1, df2))\n",
    "\n",
    "#Concat\n",
    "# df2 dataframe is appended at the bottom of df1 \n",
    "\n",
    "print(pd.concat([df1, df2]))"
   ]
  }
 ],
 "metadata": {
  "kernelspec": {
   "display_name": "base",
   "language": "python",
   "name": "python3"
  },
  "language_info": {
   "codemirror_mode": {
    "name": "ipython",
    "version": 3
   },
   "file_extension": ".py",
   "mimetype": "text/x-python",
   "name": "python",
   "nbconvert_exporter": "python",
   "pygments_lexer": "ipython3",
   "version": "3.11.5"
  }
 },
 "nbformat": 4,
 "nbformat_minor": 2
}
