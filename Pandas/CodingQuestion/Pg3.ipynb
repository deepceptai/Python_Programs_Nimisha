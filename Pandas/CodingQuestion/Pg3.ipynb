{
 "cells": [
  {
   "cell_type": "markdown",
   "metadata": {},
   "source": [
    "3. How to add a column to a Pandas DataFrame?"
   ]
  },
  {
   "cell_type": "markdown",
   "metadata": {},
   "source": [
    "We first create the dataframe and then look into the various methods one by one.\n",
    "By declaring a new list as a column."
   ]
  },
  {
   "cell_type": "code",
   "execution_count": 1,
   "metadata": {},
   "outputs": [
    {
     "name": "stdout",
     "output_type": "stream",
     "text": [
      "     Name  Age  Marks\n",
      "0    Kate   10     85\n",
      "1   Harry   11     77\n",
      "2  Sheila   12     91\n",
      "     Name  Age  Marks  Address\n",
      "0    Kate   10     85  Chicago\n",
      "1   Harry   11     77   London\n",
      "2  Sheila   12     91   Berlin\n"
     ]
    }
   ],
   "source": [
    "# Add column\n",
    "import pandas as pd\n",
    "\n",
    "student_dict = {'Name': ['Kate', 'Harry', 'Sheila'], 'Age': [10, 11, 12], 'Marks': [85, 77, 91]}\n",
    "\n",
    "# create DataFrame from dict\n",
    "student_df = pd.DataFrame(student_dict)\n",
    "print(student_df)\n",
    "address = ['Chicago', 'London', 'Berlin']\n",
    "student_df['Address'] = address\n",
    "  \n",
    "# Observe the result\n",
    "print(student_df)"
   ]
  },
  {
   "cell_type": "markdown",
   "metadata": {},
   "source": [
    "By using DataFrame.insert(): It gives the freedom to add a column at any position we like and not just at the end. It also provides different options for inserting the column values."
   ]
  },
  {
   "cell_type": "code",
   "execution_count": 2,
   "metadata": {},
   "outputs": [
    {
     "name": "stdout",
     "output_type": "stream",
     "text": [
      "     Name  Age  Marks\n",
      "0    Kate   10     85\n",
      "1   Harry   11     77\n",
      "2  Sheila   12     91\n",
      "     Name  Age  Address  Marks\n",
      "0    Kate   10  Chicago     85\n",
      "1   Harry   11   London     77\n",
      "2  Sheila   12   Berlin     91\n"
     ]
    }
   ],
   "source": [
    "import pandas as pd\n",
    "\n",
    "student_dict = {'Name': ['Kate', 'Harry', 'Sheila'], 'Age': [10, 11, 12], 'Marks': [85, 77, 91]}\n",
    "\n",
    "# create DataFrame from dict\n",
    "student_df = pd.DataFrame(student_dict)\n",
    "print(student_df)\n",
    "address = ['Chicago', 'London', 'Berlin']\n",
    "student_df.insert(2, \"Address\", ['Chicago', 'London', 'Berlin'], True)\n",
    "# Observe the result\n",
    "print(student_df)"
   ]
  },
  {
   "cell_type": "markdown",
   "metadata": {},
   "source": [
    "Using Dataframe.assign() method: This method will create a new dataframe with a new column added to the old dataframe"
   ]
  },
  {
   "cell_type": "code",
   "execution_count": 4,
   "metadata": {},
   "outputs": [
    {
     "name": "stdout",
     "output_type": "stream",
     "text": [
      "     Name  Age  Marks\n",
      "0    Kate   10     85\n",
      "1   Harry   11     77\n",
      "2  Sheila   12     91\n",
      "     Name  Age  Marks  Address\n",
      "0    Kate   10     85  Chicago\n",
      "1   Harry   11     77   London\n",
      "2  Sheila   12     91   Berlin\n"
     ]
    }
   ],
   "source": [
    "import pandas as pd\n",
    "\n",
    "student_dict = {'Name': ['Kate', 'Harry', 'Sheila'], 'Age': [10, 11, 12], 'Marks': [85, 77, 91]}\n",
    "\n",
    "# create DataFrame from dict\n",
    "student_df = pd.DataFrame(student_dict)\n",
    "print(student_df)\n",
    "df2 = student_df.assign(Address=['Chicago', 'London', 'Berlin'])\n",
    "  \n",
    "# Observe the result\n",
    "print(df2)"
   ]
  },
  {
   "cell_type": "markdown",
   "metadata": {},
   "source": [
    "By using a dictionary: We can use a Python dictionary to add a new column in pandas DataFrame. Use an existing column as the key values and their respective values will be the values for a new column."
   ]
  },
  {
   "cell_type": "code",
   "execution_count": 6,
   "metadata": {},
   "outputs": [
    {
     "name": "stdout",
     "output_type": "stream",
     "text": [
      "     Name  Age  Marks\n",
      "0    Kate   10     85\n",
      "1   Harry   11     77\n",
      "2  Sheila   12     91\n",
      "     Name  Age  Marks Address\n",
      "0    Kate   10     85     NaN\n",
      "1   Harry   11     77     NaN\n",
      "2  Sheila   12     91     NaN\n"
     ]
    }
   ],
   "source": [
    "import pandas as pd\n",
    "\n",
    "student_dict = {'Name': ['Kate', 'Harry', 'Sheila'], 'Age': [10, 11, 12], 'Marks': [85, 77, 91]}\n",
    "\n",
    "# create DataFrame from dict\n",
    "student_df = pd.DataFrame(student_dict)\n",
    "print(student_df)\n",
    "address = {'Kate' : 'Chicago',  'Harry':'London',\n",
    "           'Sheila': 'berlin'}\n",
    "student_df['Address'] = address\n",
    "  \n",
    "# Observe the output\n",
    "print(student_df)"
   ]
  }
 ],
 "metadata": {
  "kernelspec": {
   "display_name": "base",
   "language": "python",
   "name": "python3"
  },
  "language_info": {
   "codemirror_mode": {
    "name": "ipython",
    "version": 3
   },
   "file_extension": ".py",
   "mimetype": "text/x-python",
   "name": "python",
   "nbconvert_exporter": "python",
   "pygments_lexer": "ipython3",
   "version": "3.11.5"
  }
 },
 "nbformat": 4,
 "nbformat_minor": 2
}
