{
 "cells": [
  {
   "cell_type": "markdown",
   "metadata": {},
   "source": [
    "11. How to get frequency count of unique items in a Pandas DataFrame?\n",
    "\n",
    "Series.value_counts() method."
   ]
  },
  {
   "cell_type": "code",
   "execution_count": 1,
   "metadata": {},
   "outputs": [
    {
     "name": "stdout",
     "output_type": "stream",
     "text": [
      "0    1\n",
      "1    2\n",
      "2    3\n",
      "3    4\n",
      "4    3\n",
      "5    5\n",
      "6    3\n",
      "7    7\n",
      "8    1\n",
      "dtype: int64\n",
      "3    3\n",
      "1    2\n",
      "2    1\n",
      "4    1\n",
      "5    1\n",
      "7    1\n",
      "Name: count, dtype: int64\n"
     ]
    }
   ],
   "source": [
    "# importing the module\n",
    "import pandas as pd\n",
    " \n",
    "# creating the series\n",
    "s = pd.Series(data = [1,2,3,4,3,5,3,7,1])\n",
    " \n",
    "# displaying the series\n",
    "print(s)\n",
    " \n",
    "# finding the unique count\n",
    "print(s.value_counts())"
   ]
  }
 ],
 "metadata": {
  "kernelspec": {
   "display_name": "base",
   "language": "python",
   "name": "python3"
  },
  "language_info": {
   "codemirror_mode": {
    "name": "ipython",
    "version": 3
   },
   "file_extension": ".py",
   "mimetype": "text/x-python",
   "name": "python",
   "nbconvert_exporter": "python",
   "pygments_lexer": "ipython3",
   "version": "3.11.5"
  }
 },
 "nbformat": 4,
 "nbformat_minor": 2
}
