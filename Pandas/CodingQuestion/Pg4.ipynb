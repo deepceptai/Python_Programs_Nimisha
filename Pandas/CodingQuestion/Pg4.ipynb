{
 "cells": [
  {
   "cell_type": "markdown",
   "metadata": {},
   "source": [
    "4. How can we convert DataFrame into a NumPy array?\n",
    "\n",
    "In order to convert a dataframe into a NumPy array we use DataFrame.to_numpy() method.\n",
    "\n",
    "Syntax:\n",
    "\n",
    "DataFrame.to_numpy(dtype=None, copy=False, na_value=_NoDefault.no_default)"
   ]
  },
  {
   "cell_type": "code",
   "execution_count": 1,
   "metadata": {},
   "outputs": [
    {
     "name": "stdout",
     "output_type": "stream",
     "text": [
      "\n",
      "Numpy Array\n",
      "----------\n",
      " [[10 12 33]\n",
      " [41 53 66]\n",
      " [17 81 19]\n",
      " [10 11 12]]\n",
      "<class 'numpy.ndarray'>\n"
     ]
    }
   ],
   "source": [
    "import pandas as pd\n",
    "\n",
    "# initialize a dataframe\n",
    "df = pd.DataFrame(\n",
    "\t[[10, 12, 33],\n",
    "\t[41, 53, 66],\n",
    "\t[17, 81, 19],\n",
    "\t[10, 11, 12]],\n",
    "\tcolumns=['X', 'Y', 'Z'])\n",
    "\n",
    "# convert dataframe to numpy array\n",
    "arr = df.to_numpy()\n",
    "\n",
    "print('\\nNumpy Array\\n----------\\n', arr)\n",
    "print(type(arr))"
   ]
  }
 ],
 "metadata": {
  "kernelspec": {
   "display_name": "base",
   "language": "python",
   "name": "python3"
  },
  "language_info": {
   "codemirror_mode": {
    "name": "ipython",
    "version": 3
   },
   "file_extension": ".py",
   "mimetype": "text/x-python",
   "name": "python",
   "nbconvert_exporter": "python",
   "pygments_lexer": "ipython3",
   "version": "3.11.5"
  }
 },
 "nbformat": 4,
 "nbformat_minor": 2
}
