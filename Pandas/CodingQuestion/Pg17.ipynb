{
 "cells": [
  {
   "cell_type": "markdown",
   "metadata": {},
   "source": [
    "5. How to get items of series A not present in series B?\n",
    "\n",
    "In order to find items from series A that are not present in series B by using the isin() method combining it with the Bitwise NOT operator in pandas"
   ]
  },
  {
   "cell_type": "code",
   "execution_count": 1,
   "metadata": {},
   "outputs": [
    {
     "name": "stdout",
     "output_type": "stream",
     "text": [
      "Series1:\n",
      "0     12\n",
      "1     24\n",
      "2     38\n",
      "3    210\n",
      "4    110\n",
      "5    147\n",
      "6    929\n",
      "dtype: int64\n",
      "\n",
      "Series2:\n",
      "0     17\n",
      "1     83\n",
      "2     76\n",
      "3     54\n",
      "4    110\n",
      "5    929\n",
      "6    510\n",
      "dtype: int64\n",
      "\n",
      "Items of series1 not present in series2:\n",
      "0     12\n",
      "1     24\n",
      "2     38\n",
      "3    210\n",
      "5    147\n",
      "dtype: int64\n"
     ]
    }
   ],
   "source": [
    "# Importing pandas library\n",
    "import pandas as pd\n",
    "\n",
    "# Creating 2 pandas Series\n",
    "series1 = pd.Series([12, 24, 38, 210, 110, 147, 929])\n",
    "series2 = pd.Series([17, 83, 76, 54, 110, 929, 510])\n",
    "\n",
    "print(\"Series1:\")\n",
    "print(series1)\n",
    "print(\"\\nSeries2:\")\n",
    "print(series2)\n",
    "\n",
    "# Using Bitwise NOT operator along\n",
    "# with pandas.isin()\n",
    "print(\"\\nItems of series1 not present in series2:\")\n",
    "res = series1[~series1.isin(series2)]\n",
    "print(res)"
   ]
  }
 ],
 "metadata": {
  "kernelspec": {
   "display_name": "base",
   "language": "python",
   "name": "python3"
  },
  "language_info": {
   "codemirror_mode": {
    "name": "ipython",
    "version": 3
   },
   "file_extension": ".py",
   "mimetype": "text/x-python",
   "name": "python",
   "nbconvert_exporter": "python",
   "pygments_lexer": "ipython3",
   "version": "3.11.5"
  }
 },
 "nbformat": 4,
 "nbformat_minor": 2
}
