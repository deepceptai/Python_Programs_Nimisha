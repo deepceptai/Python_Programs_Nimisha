{
 "cells": [
  {
   "cell_type": "markdown",
   "metadata": {},
   "source": [
    "13. How to reset the index in a Python Pandas DataFrame?\n",
    "\n",
    "Inorder to reset the index of the DataFrame we use the Dataframe.reset_index() command."
   ]
  },
  {
   "cell_type": "code",
   "execution_count": 1,
   "metadata": {},
   "outputs": [
    {
     "name": "stdout",
     "output_type": "stream",
     "text": [
      "     Name  Age  Marks\n",
      "0    Kate   10     85\n",
      "1   Harry   11     77\n",
      "2  Sheila   12     91\n",
      "        Age  Marks\n",
      "Name              \n",
      "Kate     10     85\n",
      "Harry    11     77\n",
      "Sheila   12     91\n",
      "   Age  Marks\n",
      "0   10     85\n",
      "1   11     77\n",
      "2   12     91\n"
     ]
    }
   ],
   "source": [
    "import pandas as pd\n",
    "\n",
    "student_dict = {'Name': ['Kate', 'Harry', 'Sheila'], 'Age': [10, 11, 12], 'Marks': [85, 77, 91]}\n",
    "\n",
    "# create DataFrame from dict\n",
    "student_df = pd.DataFrame(student_dict)\n",
    "print(student_df)\n",
    "\n",
    "# set index using column\n",
    "student_df = student_df.set_index('Name')\n",
    "print(student_df)\n",
    "\n",
    "student_df.reset_index(drop=True, inplace=True)\n",
    "print(student_df)"
   ]
  }
 ],
 "metadata": {
  "kernelspec": {
   "display_name": "base",
   "language": "python",
   "name": "python3"
  },
  "language_info": {
   "codemirror_mode": {
    "name": "ipython",
    "version": 3
   },
   "file_extension": ".py",
   "mimetype": "text/x-python",
   "name": "python",
   "nbconvert_exporter": "python",
   "pygments_lexer": "ipython3",
   "version": "3.11.5"
  }
 },
 "nbformat": 4,
 "nbformat_minor": 2
}
