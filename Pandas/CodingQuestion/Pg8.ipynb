{
 "cells": [
  {
   "cell_type": "markdown",
   "metadata": {},
   "source": [
    "8. How can we convert NumPy array into a DataFrame?\n"
   ]
  },
  {
   "cell_type": "code",
   "execution_count": 1,
   "metadata": {},
   "outputs": [
    {
     "name": "stdout",
     "output_type": "stream",
     "text": [
      "      Column1  Column2  Column3\n",
      "Row1      115      222      343\n",
      "Row2      323      242      356\n"
     ]
    }
   ],
   "source": [
    "# Python program to Create a\n",
    "# Pandas DataFrame from a Numpy\n",
    "# array and specify the index\n",
    "# column and column headers\n",
    "\n",
    "# import required libraries\n",
    "import numpy as np\n",
    "import pandas as pd\n",
    "\n",
    "# creating a numpy array\n",
    "numpyArray = np.array([[115, 222, 343],\n",
    "\t\t\t\t\t[323, 242, 356]])\n",
    "\n",
    "# generating the Pandas dataframe\n",
    "# from the Numpy array and specifying\n",
    "# name of index and columns\n",
    "dataframe = pd.DataFrame(data = numpyArray,\n",
    "\t\t\t\t\t\tindex = [\"Row1\", \"Row2\"],\n",
    "\t\t\t\t\t\tcolumns = [\"Column1\",\n",
    "\t\t\t\t\t\t\t\t\"Column2\", \"Column3\"])\n",
    "\n",
    "# printing the dataframe\n",
    "print(dataframe)"
   ]
  }
 ],
 "metadata": {
  "kernelspec": {
   "display_name": "base",
   "language": "python",
   "name": "python3"
  },
  "language_info": {
   "codemirror_mode": {
    "name": "ipython",
    "version": 3
   },
   "file_extension": ".py",
   "mimetype": "text/x-python",
   "name": "python",
   "nbconvert_exporter": "python",
   "pygments_lexer": "ipython3",
   "version": "3.11.5"
  }
 },
 "nbformat": 4,
 "nbformat_minor": 2
}
