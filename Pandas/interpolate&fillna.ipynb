{
 "cells": [
  {
   "cell_type": "markdown",
   "metadata": {},
   "source": [
    "Difference between interpolate() and fillna() in Pandas"
   ]
  },
  {
   "cell_type": "markdown",
   "metadata": {},
   "source": [
    "fillna(): It fills the NaN values with a given number with which you want to substitute. It gives you the option to fill according to the index of rows of a pd.DataFrame or on the name of the columns in the form of a python dict"
   ]
  },
  {
   "cell_type": "code",
   "execution_count": 2,
   "metadata": {},
   "outputs": [
    {
     "name": "stdout",
     "output_type": "stream",
     "text": [
      "   Value_1  Value_2  Value_3  Value_4\n",
      "0      NaN      NaN     20.0      NaN\n",
      "1     14.0     24.0     16.0      2.0\n",
      "2     35.0     54.0      NaN     54.0\n",
      "3      NaN      3.0      3.0      3.0\n",
      "4      1.0      NaN      8.0      NaN\n",
      "5     12.0      NaN      NaN     14.0\n",
      "6     74.0      2.0      2.0      3.0\n",
      "7     65.0     54.0     54.0      NaN\n",
      "8      NaN      3.0      3.0      NaN\n",
      "9      1.0      NaN      NaN      6.0\n"
     ]
    },
    {
     "data": {
      "text/html": [
       "<div>\n",
       "<style scoped>\n",
       "    .dataframe tbody tr th:only-of-type {\n",
       "        vertical-align: middle;\n",
       "    }\n",
       "\n",
       "    .dataframe tbody tr th {\n",
       "        vertical-align: top;\n",
       "    }\n",
       "\n",
       "    .dataframe thead th {\n",
       "        text-align: right;\n",
       "    }\n",
       "</style>\n",
       "<table border=\"1\" class=\"dataframe\">\n",
       "  <thead>\n",
       "    <tr style=\"text-align: right;\">\n",
       "      <th></th>\n",
       "      <th>Value_1</th>\n",
       "      <th>Value_2</th>\n",
       "      <th>Value_3</th>\n",
       "      <th>Value_4</th>\n",
       "    </tr>\n",
       "  </thead>\n",
       "  <tbody>\n",
       "    <tr>\n",
       "      <th>0</th>\n",
       "      <td>28.0</td>\n",
       "      <td>NaN</td>\n",
       "      <td>20.0</td>\n",
       "      <td>NaN</td>\n",
       "    </tr>\n",
       "    <tr>\n",
       "      <th>1</th>\n",
       "      <td>14.0</td>\n",
       "      <td>24.0</td>\n",
       "      <td>16.0</td>\n",
       "      <td>2.0</td>\n",
       "    </tr>\n",
       "    <tr>\n",
       "      <th>2</th>\n",
       "      <td>35.0</td>\n",
       "      <td>54.0</td>\n",
       "      <td>NaN</td>\n",
       "      <td>54.0</td>\n",
       "    </tr>\n",
       "    <tr>\n",
       "      <th>3</th>\n",
       "      <td>28.0</td>\n",
       "      <td>3.0</td>\n",
       "      <td>3.0</td>\n",
       "      <td>3.0</td>\n",
       "    </tr>\n",
       "    <tr>\n",
       "      <th>4</th>\n",
       "      <td>1.0</td>\n",
       "      <td>NaN</td>\n",
       "      <td>8.0</td>\n",
       "      <td>NaN</td>\n",
       "    </tr>\n",
       "  </tbody>\n",
       "</table>\n",
       "</div>"
      ],
      "text/plain": [
       "   Value_1  Value_2  Value_3  Value_4\n",
       "0     28.0      NaN     20.0      NaN\n",
       "1     14.0     24.0     16.0      2.0\n",
       "2     35.0     54.0      NaN     54.0\n",
       "3     28.0      3.0      3.0      3.0\n",
       "4      1.0      NaN      8.0      NaN"
      ]
     },
     "execution_count": 2,
     "metadata": {},
     "output_type": "execute_result"
    }
   ],
   "source": [
    "import pandas as pd\n",
    "import numpy as np\n",
    "\n",
    "#Creating a dataframe\n",
    "df = pd.DataFrame({\"Value_1\":[None, 14, 35, None, 1,12, 74, 65, None, 1],\n",
    "                   \"Value_2\":[None, 24, 54, 3, None,None, 2, 54, 3, None],\n",
    "                   \"Value_3\":[20, 16, None, 3, 8,None, 2, 54, 3, None],\n",
    "                   \"Value_4\":[None, 2, 54, 3, None,14, 3, None, None, 6]})\n",
    "\n",
    "print(df)\n",
    "\n",
    "#Fill the missing value with average values in column Value1.\n",
    "df['Value_1'].fillna(int(df['Value_1'].mean()), inplace = True)\n",
    "df.head()"
   ]
  },
  {
   "cell_type": "markdown",
   "metadata": {},
   "source": [
    "interpolate(): It gives you the flexibility to fill the missing values with many kinds of interpolations between the values like linear, time, etc."
   ]
  },
  {
   "cell_type": "code",
   "execution_count": 3,
   "metadata": {},
   "outputs": [
    {
     "name": "stdout",
     "output_type": "stream",
     "text": [
      "0    1.000000\n",
      "1    1.666667\n",
      "2    2.333333\n",
      "3    3.000000\n",
      "dtype: float64\n"
     ]
    }
   ],
   "source": [
    "import pandas as pd, numpy as np\n",
    "\n",
    "df = pd.Series([1, np.nan, np.nan, 3])\n",
    "print(df.interpolate())"
   ]
  }
 ],
 "metadata": {
  "kernelspec": {
   "display_name": "base",
   "language": "python",
   "name": "python3"
  },
  "language_info": {
   "codemirror_mode": {
    "name": "ipython",
    "version": 3
   },
   "file_extension": ".py",
   "mimetype": "text/x-python",
   "name": "python",
   "nbconvert_exporter": "python",
   "pygments_lexer": "ipython3",
   "version": "3.11.5"
  }
 },
 "nbformat": 4,
 "nbformat_minor": 2
}
