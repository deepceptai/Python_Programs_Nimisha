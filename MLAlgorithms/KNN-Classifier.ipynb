{
 "cells": [
  {
   "cell_type": "code",
   "execution_count": 14,
   "metadata": {},
   "outputs": [
    {
     "name": "stdout",
     "output_type": "stream",
     "text": [
      "Train: 101\n",
      "Test: 48\n"
     ]
    }
   ],
   "source": [
    "import csv\n",
    "import random\n",
    "import operator\n",
    "import math\n",
    "\n",
    "random.seed(47)\n",
    "\n",
    "def viewDataset(file):\n",
    "    with open(file) as csvfile:\n",
    "        lines = csv.reader(csvfile)\n",
    "        for row in lines:\n",
    "            print(', '.join(row))\n",
    "\n",
    "\n",
    "dataset = r'iris.data'\n",
    "\n",
    "def handleDataset(filename, split):\n",
    "    trainingSet = []\n",
    "    testSet = []\n",
    "    with open(filename, 'r') as csvfile:\n",
    "        lines = csv.reader(csvfile)\n",
    "        dataset = list(lines)\n",
    "        for x in range(len(dataset) - 1):\n",
    "            for y in range(4):\n",
    "                dataset[x][y] = float(dataset[x][y])\n",
    "            if random.random() < split:\n",
    "                trainingSet.append(dataset[x])\n",
    "            else:\n",
    "                testSet.append(dataset[x])\n",
    "    return trainingSet, testSet\n",
    "\n",
    "\n",
    "trainingSet, testSet = handleDataset(dataset, 0.66)\n",
    "print ('Train: ' + repr(len(trainingSet)))\n",
    "print ('Test: ' + repr(len(testSet)))"
   ]
  },
  {
   "cell_type": "code",
   "execution_count": 9,
   "metadata": {},
   "outputs": [
    {
     "name": "stdout",
     "output_type": "stream",
     "text": [
      "Distance: 3.4641016151377544\n"
     ]
    }
   ],
   "source": [
    "def euclideanDistance(instance1, instance2, length):\n",
    "    distance = 0\n",
    "    for x in range(length):\n",
    "        distance += pow((instance1[x] - instance2[x]), 2)\n",
    "    return math.sqrt(distance)\n",
    "# Test Euclidean Distance\n",
    "data1 = [2, 2, 2, 'a']\n",
    "data2 = [4, 4, 4, 'b']\n",
    "distance = euclideanDistance(data1, data2, 3)\n",
    "print('Distance: ' + repr(distance))"
   ]
  },
  {
   "cell_type": "code",
   "execution_count": 10,
   "metadata": {},
   "outputs": [
    {
     "name": "stdout",
     "output_type": "stream",
     "text": [
      "[[4, 4, 4, 'b']]\n"
     ]
    }
   ],
   "source": [
    "def getKNeighbors(trainingSet, testInstance, k):\n",
    "    distances = []\n",
    "    length = len(testInstance) - 1\n",
    "    for x in range(len(trainingSet)):\n",
    "        dist = euclideanDistance(testInstance, trainingSet[x], length)\n",
    "        distances.append((trainingSet[x], dist))\n",
    "    distances.sort(key=operator.itemgetter(1))\n",
    "    neighbors = []\n",
    "    for x in range(k):\n",
    "        neighbors.append(distances[x][0])\n",
    "    return neighbors\n",
    "# test getKNeighbors\n",
    "\n",
    "trainSet = [[2, 2, 2, 'a'], [4, 4, 4, 'b']]\n",
    "testInstance = [5, 5, 5]\n",
    "k = 1\n",
    "neighbors = getKNeighbors(trainSet, testInstance, 1)\n",
    "print(neighbors)"
   ]
  },
  {
   "cell_type": "code",
   "execution_count": 11,
   "metadata": {},
   "outputs": [
    {
     "name": "stdout",
     "output_type": "stream",
     "text": [
      "a\n"
     ]
    }
   ],
   "source": [
    "def getResponse(neighbors):\n",
    "    classVotes = {}\n",
    "    for x in range(len(neighbors)):\n",
    "        response = neighbors[x][-1]\n",
    "        if response in classVotes:\n",
    "            classVotes[response] += 1\n",
    "        else:\n",
    "            classVotes[response] = 1\n",
    "#     print(classVotes)\n",
    "    sortedVotes = sorted(classVotes.items(),\n",
    "                         key=operator.itemgetter(1), reverse=True)\n",
    "#     print(sortedVotes)\n",
    "    return sortedVotes[0][0]\n",
    "# test getResponse\n",
    "\n",
    "neighbors = [[1, 1, 1, 'a'], [2, 2, 2, 'a'], [3, 3, 3, 'b']]\n",
    "print(getResponse(neighbors))"
   ]
  },
  {
   "cell_type": "code",
   "execution_count": 12,
   "metadata": {},
   "outputs": [
    {
     "name": "stdout",
     "output_type": "stream",
     "text": [
      "66.66666666666666\n"
     ]
    }
   ],
   "source": [
    "def getAccuracy(testSet, predictions):\n",
    "    correct = 0\n",
    "    testSet_length = len(testSet)\n",
    "    for x in range(testSet_length):\n",
    "        if testSet[x][-1] == predictions[x]:\n",
    "            correct += 1\n",
    "    return (correct/testSet_length) * 100.0\n",
    "# test getAccuracy\n",
    "\n",
    "testSet = [[1, 1, 1, 'a'], [2, 2, 2, 'a'], [3, 3, 3, 'b']]\n",
    "predictions = ['a', 'a', 'a']\n",
    "accuracy = getAccuracy(testSet, predictions)\n",
    "print(accuracy)"
   ]
  },
  {
   "cell_type": "code",
   "execution_count": 13,
   "metadata": {},
   "outputs": [
    {
     "name": "stdout",
     "output_type": "stream",
     "text": [
      "Train: 121\n",
      "Test: 28\n",
      "> predicted = Iris-setosa, actual = Iris-setosa\n",
      "> predicted = Iris-setosa, actual = Iris-setosa\n",
      "> predicted = Iris-setosa, actual = Iris-setosa\n",
      "> predicted = Iris-setosa, actual = Iris-setosa\n",
      "> predicted = Iris-setosa, actual = Iris-setosa\n",
      "> predicted = Iris-setosa, actual = Iris-setosa\n",
      "> predicted = Iris-setosa, actual = Iris-setosa\n",
      "> predicted = Iris-setosa, actual = Iris-setosa\n",
      "> predicted = Iris-setosa, actual = Iris-setosa\n",
      "> predicted = Iris-setosa, actual = Iris-setosa\n",
      "> predicted = Iris-versicolor, actual = Iris-versicolor\n",
      "> predicted = Iris-versicolor, actual = Iris-versicolor\n",
      "> predicted = Iris-versicolor, actual = Iris-versicolor\n",
      "> predicted = Iris-versicolor, actual = Iris-versicolor\n",
      "> predicted = Iris-versicolor, actual = Iris-versicolor\n",
      "> predicted = Iris-versicolor, actual = Iris-versicolor\n",
      "> predicted = Iris-versicolor, actual = Iris-versicolor\n",
      "> predicted = Iris-versicolor, actual = Iris-versicolor\n",
      "> predicted = Iris-versicolor, actual = Iris-versicolor\n",
      "> predicted = Iris-versicolor, actual = Iris-versicolor\n",
      "> predicted = Iris-virginica, actual = Iris-virginica\n",
      "> predicted = Iris-virginica, actual = Iris-virginica\n",
      "> predicted = Iris-virginica, actual = Iris-virginica\n",
      "> predicted = Iris-virginica, actual = Iris-virginica\n",
      "> predicted = Iris-versicolor, actual = Iris-virginica\n",
      "> predicted = Iris-virginica, actual = Iris-virginica\n",
      "> predicted = Iris-virginica, actual = Iris-virginica\n",
      "> predicted = Iris-virginica, actual = Iris-virginica\n",
      "k: 3, Accuracy: 96.429%\n"
     ]
    }
   ],
   "source": [
    "from sklearn.metrics import accuracy_score\n",
    "def main():\n",
    "    # prepare data\n",
    "    split = 0.8\n",
    "    trainingSet, testSet = handleDataset(dataset, split)\n",
    "    print('Train: ' + repr(len(trainingSet)))\n",
    "    print('Test: ' + repr(len(testSet)))\n",
    "    # generate predictions\n",
    "    predictions = []\n",
    "    k = 3\n",
    "    for x in range(len(testSet)):\n",
    "        neighbors = getKNeighbors(trainingSet, testSet[x], k)\n",
    "        result = getResponse(neighbors)    \n",
    "        predictions.append(result)\n",
    "        print(f'> predicted = {result}, actual = {testSet[x][-1]}')\n",
    "                                            \n",
    "    accuracy = getAccuracy(testSet, predictions)\n",
    "    print(f'k: {k}, Accuracy: {round(accuracy,3)}%')\n",
    "main()"
   ]
  }
 ],
 "metadata": {
  "kernelspec": {
   "display_name": "base",
   "language": "python",
   "name": "python3"
  },
  "language_info": {
   "codemirror_mode": {
    "name": "ipython",
    "version": 3
   },
   "file_extension": ".py",
   "mimetype": "text/x-python",
   "name": "python",
   "nbconvert_exporter": "python",
   "pygments_lexer": "ipython3",
   "version": "3.11.5"
  }
 },
 "nbformat": 4,
 "nbformat_minor": 2
}
