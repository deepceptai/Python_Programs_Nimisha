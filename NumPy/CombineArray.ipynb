{
 "cells": [
  {
   "cell_type": "markdown",
   "metadata": {},
   "source": [
    "Both  vstack() and hStack() methods are used for combining the NumPy arrays.\n",
    "The main difference is that the hstack method combines arrays horizontally whereas the vstack method combines arrays vertically."
   ]
  },
  {
   "cell_type": "code",
   "execution_count": 1,
   "metadata": {},
   "outputs": [
    {
     "name": "stdout",
     "output_type": "stream",
     "text": [
      "After vstack: \n",
      " [[1 2 3]\n",
      " [4 5 6]]\n",
      "After hstack: \n",
      " [1 2 3 4 5 6]\n"
     ]
    }
   ],
   "source": [
    "import numpy as np\n",
    "a = np.array([1,2,3])\n",
    "b = np.array([4,5,6])\n",
    "\n",
    "# vstack arrays\n",
    "c = np.vstack((a,b))\n",
    "print(\"After vstack: \\n\",c)\n",
    "# hstack arrays\n",
    "d = np.hstack((a,b))\n",
    "print(\"After hstack: \\n\",d)"
   ]
  }
 ],
 "metadata": {
  "kernelspec": {
   "display_name": "base",
   "language": "python",
   "name": "python3"
  },
  "language_info": {
   "codemirror_mode": {
    "name": "ipython",
    "version": 3
   },
   "file_extension": ".py",
   "mimetype": "text/x-python",
   "name": "python",
   "nbconvert_exporter": "python",
   "pygments_lexer": "ipython3",
   "version": "3.11.5"
  }
 },
 "nbformat": 4,
 "nbformat_minor": 2
}
