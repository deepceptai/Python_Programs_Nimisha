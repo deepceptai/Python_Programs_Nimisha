{
 "cells": [
  {
   "cell_type": "markdown",
   "metadata": {},
   "source": [
    "Multiplying 2 NumPy Array matrices"
   ]
  },
  {
   "cell_type": "code",
   "execution_count": 4,
   "metadata": {},
   "outputs": [
    {
     "name": "stdout",
     "output_type": "stream",
     "text": [
      "A:  [[15 16 17]\n",
      " [18 19 20]\n",
      " [21 22 23]]\n",
      "B:  [[20 21 22]\n",
      " [23 24 25]\n",
      " [26 27 28]]\n",
      "Result:  [[1110 1158 1206]\n",
      " [1317 1374 1431]\n",
      " [1524 1590 1656]]\n"
     ]
    }
   ],
   "source": [
    "import numpy as np\n",
    "\n",
    "# NumPy matrices\n",
    "A = np.arange(15,24).reshape(3,3)\n",
    "B = np.arange(20,29).reshape(3,3)\n",
    "print(\"A: \",A)\n",
    "print(\"B: \",B)\n",
    "\n",
    "# Multiply A and B\n",
    "result = A.dot(B)\n",
    "#result1 = B.dot(A)\n",
    "print(\"Result: \", result)\n"
   ]
  },
  {
   "cell_type": "markdown",
   "metadata": {},
   "source": [
    "np.arange() is used to return an array with evenly spaced elements as per the interval.\n",
    "\n",
    "reshape() is udes to change shape of an array. The shape of an array is the number of elements in each dimension"
   ]
  }
 ],
 "metadata": {
  "kernelspec": {
   "display_name": "base",
   "language": "python",
   "name": "python3"
  },
  "language_info": {
   "codemirror_mode": {
    "name": "ipython",
    "version": 3
   },
   "file_extension": ".py",
   "mimetype": "text/x-python",
   "name": "python",
   "nbconvert_exporter": "python",
   "pygments_lexer": "ipython3",
   "version": "3.11.5"
  }
 },
 "nbformat": 4,
 "nbformat_minor": 2
}
