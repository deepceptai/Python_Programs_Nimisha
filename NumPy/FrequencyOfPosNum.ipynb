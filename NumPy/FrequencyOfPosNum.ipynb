{
 "cells": [
  {
   "cell_type": "markdown",
   "metadata": {},
   "source": [
    " Counting the frequency of a given positive value appearing in the NumPy array:\n",
    "\n",
    "    We use bincount() function to find how many times a given value is there in the numpy array"
   ]
  },
  {
   "cell_type": "code",
   "execution_count": 1,
   "metadata": {},
   "outputs": [
    {
     "name": "stdout",
     "output_type": "stream",
     "text": [
      "[3 2 2 2 0 1]\n"
     ]
    }
   ],
   "source": [
    "import numpy as np\n",
    "arr = np.array([1, 2, 1, 3, 5, 0, 0, 0, 2, 3])\n",
    "result = np.bincount(arr)\n",
    "print(result)"
   ]
  },
  {
   "cell_type": "markdown",
   "metadata": {},
   "source": [
    "Each element represents the count of the corresponding index value present in the original array\n",
    "\n",
    "0 is present thrice(3)\n",
    "1 is present twice(2)\n",
    "2 is present twice(2)\n",
    "3 is present twice(2)\n",
    "4 is not present(0)\n",
    "5 is present once(1)\n"
   ]
  }
 ],
 "metadata": {
  "kernelspec": {
   "display_name": "base",
   "language": "python",
   "name": "python3"
  },
  "language_info": {
   "codemirror_mode": {
    "name": "ipython",
    "version": 3
   },
   "file_extension": ".py",
   "mimetype": "text/x-python",
   "name": "python",
   "nbconvert_exporter": "python",
   "pygments_lexer": "ipython3",
   "version": "3.11.5"
  }
 },
 "nbformat": 4,
 "nbformat_minor": 2
}
