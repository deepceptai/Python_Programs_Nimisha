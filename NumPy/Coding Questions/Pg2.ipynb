{
 "cells": [
  {
   "cell_type": "markdown",
   "metadata": {},
   "source": [
    "2. Write a program to transform elements of a given string to a numeric string of 10 digits by making all the elements of a given string to a numeric string of 8 digits with zeros on the left."
   ]
  },
  {
   "cell_type": "code",
   "execution_count": 1,
   "metadata": {},
   "outputs": [
    {
     "name": "stdout",
     "output_type": "stream",
     "text": [
      "Transformed array: \n",
      "['00000022' '00000009' '00001234' '00000567' '00089102']\n"
     ]
    }
   ],
   "source": [
    "import numpy as np\n",
    "\n",
    "# Create Sample NumPy array\n",
    "arr = np.array(['22', '9', '1234', '567', '89102'], dtype=str)\n",
    "\n",
    "zeroes_filled_arr = np.char.zfill(arr, 8) #zfill() adds zeros at the beginning of the string, until it reaches the specified length\n",
    "print(\"Transformed array: \")\n",
    "print(zeroes_filled_arr) "
   ]
  }
 ],
 "metadata": {
  "kernelspec": {
   "display_name": "base",
   "language": "python",
   "name": "python3"
  },
  "language_info": {
   "codemirror_mode": {
    "name": "ipython",
    "version": 3
   },
   "file_extension": ".py",
   "mimetype": "text/x-python",
   "name": "python",
   "nbconvert_exporter": "python",
   "pygments_lexer": "ipython3",
   "version": "3.11.5"
  }
 },
 "nbformat": 4,
 "nbformat_minor": 2
}
