{
 "cells": [
  {
   "cell_type": "markdown",
   "metadata": {},
   "source": [
    "1.Write a program to convert a string element to uppercase, lowercase, capitalise the first letter, title-case and swapcase of a given NumPy array."
   ]
  },
  {
   "cell_type": "code",
   "execution_count": 3,
   "metadata": {},
   "outputs": [
    {
     "name": "stdout",
     "output_type": "stream",
     "text": [
      "Upper Conversion:  ['I' 'LOVE' 'NUMPY' 'AND' 'INTERVIEWBIT']\n",
      "Lower Conversion:  ['i' 'love' 'numpy' 'and' 'interviewbit']\n",
      "Capitalize First Letter Conversion:  ['I' 'Love' 'Numpy' 'And' 'Interviewbit']\n",
      "Titlecase Conversion:  ['I' 'Love' 'Numpy' 'And' 'Interviewbit']\n",
      "Swapcase Conversion:  ['I' 'LOVE' 'nUMpY' 'and' 'INTERVIEWBIT']\n"
     ]
    }
   ],
   "source": [
    "import numpy as np\n",
    "\n",
    "# Create Sample NumPy array\n",
    "arr = np.array(['i', 'love', 'NumPy', 'AND', 'interviewbit'], dtype=str)\n",
    "\n",
    "upper_case_arr = np.char.upper(arr)\n",
    "lower_case_arr = np.char.lower(arr)\n",
    "capitalize_case_arr = np.char.capitalize(arr)\n",
    "titlecase_arr = np.char.title(arr)\n",
    "swapcase_arr = np.char.swapcase(arr)\n",
    "\n",
    "print(\"Upper Conversion: \", upper_case_arr)\n",
    "print(\"Lower Conversion: \", lower_case_arr)\n",
    "print(\"Capitalize First Letter Conversion: \", capitalize_case_arr)\n",
    "print(\"Titlecase Conversion: \", titlecase_arr)\n",
    "print(\"Swapcase Conversion: \", swapcase_arr)"
   ]
  }
 ],
 "metadata": {
  "kernelspec": {
   "display_name": "base",
   "language": "python",
   "name": "python3"
  },
  "language_info": {
   "codemirror_mode": {
    "name": "ipython",
    "version": 3
   },
   "file_extension": ".py",
   "mimetype": "text/x-python",
   "name": "python",
   "nbconvert_exporter": "python",
   "pygments_lexer": "ipython3",
   "version": "3.11.5"
  }
 },
 "nbformat": 4,
 "nbformat_minor": 2
}
