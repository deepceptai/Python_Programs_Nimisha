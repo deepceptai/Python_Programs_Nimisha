{
 "cells": [
  {
   "cell_type": "markdown",
   "metadata": {},
   "source": [
    "7. Write a program for changing the dimension of a NumPy array."
   ]
  },
  {
   "cell_type": "code",
   "execution_count": 1,
   "metadata": {},
   "outputs": [
    {
     "name": "stdout",
     "output_type": "stream",
     "text": [
      "Original Shape:  (9,)\n",
      "Transformed Matrix :\n",
      "[[1 2 3]\n",
      " [4 5 6]\n",
      " [7 8 9]]\n",
      "Transformed Shape:  (3, 3)\n"
     ]
    }
   ],
   "source": [
    "import numpy as np\n",
    "\n",
    "#Create NumPy array\n",
    "arr = np.array([1,2,3,4,5,6,7,8,9])\n",
    "print(\"Original Shape: \", arr.shape)\n",
    "\n",
    "# Change the shape/dimension of the array\n",
    "arr.shape = (3, 3)\n",
    "print(\"Transformed Matrix :\")\n",
    "print(arr)\n",
    "print(\"Transformed Shape: \",arr.shape)"
   ]
  }
 ],
 "metadata": {
  "kernelspec": {
   "display_name": "base",
   "language": "python",
   "name": "python3"
  },
  "language_info": {
   "codemirror_mode": {
    "name": "ipython",
    "version": 3
   },
   "file_extension": ".py",
   "mimetype": "text/x-python",
   "name": "python",
   "nbconvert_exporter": "python",
   "pygments_lexer": "ipython3",
   "version": "3.11.5"
  }
 },
 "nbformat": 4,
 "nbformat_minor": 2
}
