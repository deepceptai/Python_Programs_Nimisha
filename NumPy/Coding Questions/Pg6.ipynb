{
 "cells": [
  {
   "cell_type": "markdown",
   "metadata": {},
   "source": [
    "6. Write a program to add a border of zeros around the existing array.\n",
    "For example,\n",
    "If you have the below array:\n",
    "\n",
    "[[ 1.  1.  1.  1.]                                                          \n",
    " [ 1.  1.  1.  1.]                                                          \n",
    " [ 1.  1.  1.  1.]] \n",
    "The resultant array should be: (zeros on the border and 1s within it)\n",
    "\n",
    "[[ 0.  0.  0.  0.  0.  0.]                                                  \n",
    " [ 0.  1.  1.  1.  1.  0.]                                                  \n",
    " [ 0.  1.  1.  1.  1.  0.]                                                  \n",
    " [ 0.  1.  1.  1.  1.  0.]                                                  \n",
    " [ 0.  0.  0.  0.  0.  0.]]"
   ]
  },
  {
   "cell_type": "code",
   "execution_count": 2,
   "metadata": {},
   "outputs": [
    {
     "name": "stdout",
     "output_type": "stream",
     "text": [
      "Transformed array:\n",
      "[[0. 0. 0. 0. 0. 0.]\n",
      " [0. 1. 1. 1. 1. 0.]\n",
      " [0. 1. 1. 1. 1. 0.]\n",
      " [0. 1. 1. 1. 1. 0.]\n",
      " [0. 1. 1. 1. 1. 0.]\n",
      " [0. 0. 0. 0. 0. 0.]]\n"
     ]
    }
   ],
   "source": [
    "import numpy as np\n",
    "\n",
    "# Create NumPy arrays filled with ones\n",
    "ones_arr = np.ones((4,4))\n",
    "\n",
    "print(\"Transformed array:\")\n",
    "transformed_array = np.pad(ones_arr, pad_width=1, mode='constant', constant_values=0)\n",
    "print(transformed_array)"
   ]
  },
  {
   "cell_type": "markdown",
   "metadata": {},
   "source": [
    "np.ones(shape, dtype=None, order='C') --> it returns a new array of given shape and data type, where element's value is set to 1.\n",
    "\n",
    "np.pad(array, pad_width, mode, **kwargs) -->when there is a need to perform padding in NumPy arrays, numpy.pad() function is used"
   ]
  }
 ],
 "metadata": {
  "kernelspec": {
   "display_name": "base",
   "language": "python",
   "name": "python3"
  },
  "language_info": {
   "codemirror_mode": {
    "name": "ipython",
    "version": 3
   },
   "file_extension": ".py",
   "mimetype": "text/x-python",
   "name": "python",
   "nbconvert_exporter": "python",
   "pygments_lexer": "ipython3",
   "version": "3.11.5"
  }
 },
 "nbformat": 4,
 "nbformat_minor": 2
}
