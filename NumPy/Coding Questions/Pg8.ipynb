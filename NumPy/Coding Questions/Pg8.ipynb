{
 "cells": [
  {
   "cell_type": "markdown",
   "metadata": {},
   "source": [
    "8. Write a program for interchanging two axes of the NumPy array."
   ]
  },
  {
   "cell_type": "code",
   "execution_count": 3,
   "metadata": {},
   "outputs": [
    {
     "name": "stdout",
     "output_type": "stream",
     "text": [
      "Original array: \n",
      "[[1 2 3]]\n",
      "Transformed array: \n",
      "[[1]\n",
      " [2]\n",
      " [3]]\n"
     ]
    }
   ],
   "source": [
    "import numpy as np\n",
    "\n",
    "arr = np.array([[1,2,3]])\n",
    "print(\"Original array: \")\n",
    "print(arr)\n",
    "\n",
    "#Swap axes\n",
    "axis_swapped_arr =  np.swapaxes(arr,0,1)\n",
    "print(\"Transformed array: \")\n",
    "print(axis_swapped_arr)"
   ]
  },
  {
   "cell_type": "markdown",
   "metadata": {},
   "source": [
    "np.swapaxes(arr, axis1, axis2) --> interchange two axes of an array\n"
   ]
  },
  {
   "cell_type": "code",
   "execution_count": 7,
   "metadata": {},
   "outputs": [
    {
     "name": "stdout",
     "output_type": "stream",
     "text": [
      "Original array: \n",
      "[[[1 2]\n",
      "  [3 4]\n",
      "  [5 6]]]\n",
      "Transformed array: \n",
      "[[[1]\n",
      "  [3]\n",
      "  [5]]\n",
      "\n",
      " [[2]\n",
      "  [4]\n",
      "  [6]]]\n"
     ]
    }
   ],
   "source": [
    "import numpy as np\n",
    "\n",
    "arr = np.array([[[1,2], [3,4] ,[5,6]]])\n",
    "print(\"Original array: \")\n",
    "print(arr)\n",
    "\n",
    "#Swap axes\n",
    "axis_swapped_arr =  np.swapaxes(arr,0,2)\n",
    "print(\"Transformed array: \")\n",
    "print(axis_swapped_arr)"
   ]
  }
 ],
 "metadata": {
  "kernelspec": {
   "display_name": "base",
   "language": "python",
   "name": "python3"
  },
  "language_info": {
   "codemirror_mode": {
    "name": "ipython",
    "version": 3
   },
   "file_extension": ".py",
   "mimetype": "text/x-python",
   "name": "python",
   "nbconvert_exporter": "python",
   "pygments_lexer": "ipython3",
   "version": "3.11.5"
  }
 },
 "nbformat": 4,
 "nbformat_minor": 2
}
