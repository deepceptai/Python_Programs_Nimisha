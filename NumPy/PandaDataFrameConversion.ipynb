{
 "cells": [
  {
   "cell_type": "markdown",
   "metadata": {},
   "source": [
    "Covert Pandas dataframe to numpy array\n",
    "\n",
    "to_numpy() method of the NumPy package can be used to convert Pandas DataFrame, Index and Series objects."
   ]
  },
  {
   "cell_type": "code",
   "execution_count": 5,
   "metadata": {},
   "outputs": [
    {
     "name": "stdout",
     "output_type": "stream",
     "text": [
      "Pandas DataFrame: \n",
      "   A  B  C\n",
      "i  3  6  9\n",
      "j  2  5  8\n",
      "k  1  4  7\n",
      "Pandas DataFrame to NumPy array: \n",
      "[[3 6 9]\n",
      " [2 5 8]\n",
      " [1 4 7]]\n",
      "Convert B and C columns of Pandas DataFrame to NumPy Array: \n",
      "[[6 9]\n",
      " [5 8]\n",
      " [4 7]]\n"
     ]
    }
   ],
   "source": [
    "import pandas as pd\n",
    "import numpy as np\n",
    "# Pandas DataFrame\n",
    "df = pd.DataFrame(data={'A': [3, 2, 1], 'B': [6,5,4], 'C': [9, 8, 7]}, \n",
    "                  index=['i', 'j', 'k'])\n",
    "print(\"Pandas DataFrame: \")\n",
    "print(df)\n",
    "\n",
    "# Convert Pandas DataFrame to NumPy Array\n",
    "np_arr = df.to_numpy()\n",
    "print(\"Pandas DataFrame to NumPy array: \")\n",
    "print(np_arr)\n",
    "\n",
    "\n",
    "# Convert specific columns of Pandas DataFrame to NumPy array\n",
    "arr = df[['B', 'C']].to_numpy()\n",
    "print(\"Convert B and C columns of Pandas DataFrame to NumPy Array: \")\n",
    "print (arr)\n"
   ]
  },
  {
   "cell_type": "markdown",
   "metadata": {},
   "source": [
    "Pandas DataFrame is a structure that contains two-dimensional data and its corresponding label"
   ]
  }
 ],
 "metadata": {
  "kernelspec": {
   "display_name": "base",
   "language": "python",
   "name": "python3"
  },
  "language_info": {
   "codemirror_mode": {
    "name": "ipython",
    "version": 3
   },
   "file_extension": ".py",
   "mimetype": "text/x-python",
   "name": "python",
   "nbconvert_exporter": "python",
   "pygments_lexer": "ipython3",
   "version": "3.11.5"
  }
 },
 "nbformat": 4,
 "nbformat_minor": 2
}
