{
 "cells": [
  {
   "cell_type": "code",
   "execution_count": 1,
   "metadata": {},
   "outputs": [
    {
     "name": "stdout",
     "output_type": "stream",
     "text": [
      "earth\n",
      "mars\n"
     ]
    }
   ],
   "source": [
    "planet1 = \"earth\"\n",
    "planet2 = \"mars\"\n",
    "\n",
    "planet2, planet2 = planet1, planet2\n",
    "\n",
    "print(planet1)\n",
    "print(planet2)"
   ]
  },
  {
   "cell_type": "code",
   "execution_count": 7,
   "metadata": {},
   "outputs": [
    {
     "name": "stdout",
     "output_type": "stream",
     "text": [
      "New Planet1: earth & New Planet2: mars\n"
     ]
    }
   ],
   "source": [
    "planet1 = \"earth\"\n",
    "planet2 = \"mars\"\n",
    "\n",
    "planet2, planet2 = planet1, planet2\n",
    "\n",
    "print(f\"New Planet1: {planet1} & New Planet2: {planet2}\")"
   ]
  }
 ],
 "metadata": {
  "kernelspec": {
   "display_name": "Python 3",
   "language": "python",
   "name": "python3"
  },
  "language_info": {
   "codemirror_mode": {
    "name": "ipython",
    "version": 3
   },
   "file_extension": ".py",
   "mimetype": "text/x-python",
   "name": "python",
   "nbconvert_exporter": "python",
   "pygments_lexer": "ipython3",
   "version": "3.11.3"
  }
 },
 "nbformat": 4,
 "nbformat_minor": 2
}
