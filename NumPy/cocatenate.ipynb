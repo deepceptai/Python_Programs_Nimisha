{
 "cells": [
  {
   "cell_type": "markdown",
   "metadata": {},
   "source": [
    "Concatenate 2 arrays\n",
    "\n",
    "Syntax: np.concatenate((a1, a2, ...), axis=0, out=None) \n",
    "where, \n",
    "a1,a2: arrays of the same shape\n",
    "axis: Represents the axis along which the arrays are joined. The default value is 0.\n",
    "out: If mentioned, it specifies the destination for placing the result."
   ]
  },
  {
   "cell_type": "code",
   "execution_count": 2,
   "metadata": {},
   "outputs": [
    {
     "name": "stdout",
     "output_type": "stream",
     "text": [
      "With axis 0: \n",
      " [[1 2]\n",
      " [3 4]\n",
      " [5 6]]\n",
      "With axis 1: \n",
      " [[1 2 5]\n",
      " [3 4 6]]\n"
     ]
    }
   ],
   "source": [
    "import numpy as np\n",
    "a = np.array([[1, 2], [3, 4]])\n",
    "b = np.array([[5, 6]])\n",
    "\n",
    "# Concatenate with axis 0\n",
    "c = np.concatenate((a,b), axis=0)\n",
    "print(\"With axis 0: \\n\",c )\n",
    "\n",
    "# Concatenate with axis 1 (b.T represents transpose matrix)\n",
    "d = np.concatenate((a,b.T), axis=1)\n",
    "print(\"With axis 1: \\n\",d )\n"
   ]
  }
 ],
 "metadata": {
  "kernelspec": {
   "display_name": "base",
   "language": "python",
   "name": "python3"
  },
  "language_info": {
   "codemirror_mode": {
    "name": "ipython",
    "version": 3
   },
   "file_extension": ".py",
   "mimetype": "text/x-python",
   "name": "python",
   "nbconvert_exporter": "python",
   "pygments_lexer": "ipython3",
   "version": "3.11.5"
  }
 },
 "nbformat": 4,
 "nbformat_minor": 2
}
