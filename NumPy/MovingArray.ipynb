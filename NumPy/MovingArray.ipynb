{
 "cells": [
  {
   "cell_type": "markdown",
   "metadata": {},
   "source": [
    "Implement the moving average for the 1D array in NumPy\n",
    "\n"
   ]
  },
  {
   "cell_type": "code",
   "execution_count": 2,
   "metadata": {},
   "outputs": [
    {
     "name": "stdout",
     "output_type": "stream",
     "text": [
      "Moving average of window length 2: \n",
      "[4.5 6.5 8.5 6.  2.5 3.  3.  1.  1. ]\n",
      "Moving average of window length 4: \n",
      "[6.5  6.25 5.5  4.5  2.75 2.   2.  ]\n"
     ]
    }
   ],
   "source": [
    "import numpy as np\n",
    "\n",
    "def calculate_moving_average(arr, w):\n",
    "    return np.convolve(arr, np.ones(w),'valid')/w   #np.ones(), Return a new array of given shape and type, filled with ones.\n",
    "\n",
    "arr1 = np.array([4,5,8,9,3,2,4,2,0,2])\n",
    "print(\"Moving average of window length 2: \")\n",
    "av1 = calculate_moving_average(arr1, 2)\n",
    "print(av1)\n",
    "\n",
    "print(\"Moving average of window length 4: \")\n",
    "av2 = calculate_moving_average(arr1, 4)\n",
    "print(av2)"
   ]
  }
 ],
 "metadata": {
  "kernelspec": {
   "display_name": "base",
   "language": "python",
   "name": "python3"
  },
  "language_info": {
   "codemirror_mode": {
    "name": "ipython",
    "version": 3
   },
   "file_extension": ".py",
   "mimetype": "text/x-python",
   "name": "python",
   "nbconvert_exporter": "python",
   "pygments_lexer": "ipython3",
   "version": "3.11.5"
  }
 },
 "nbformat": 4,
 "nbformat_minor": 2
}
