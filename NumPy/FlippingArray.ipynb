{
 "cells": [
  {
   "cell_type": "markdown",
   "metadata": {},
   "source": [
    "fliplr() method, used to flip an array from left or right direction. The columns are preserved but the order of elements in the columns would be different than before\n",
    "\n",
    "Syntax: np.fliplr(arr)"
   ]
  },
  {
   "cell_type": "code",
   "execution_count": 3,
   "metadata": {},
   "outputs": [
    {
     "name": "stdout",
     "output_type": "stream",
     "text": [
      "Original array : \n",
      " [[0 1 2 3]\n",
      " [4 5 6 7]]\n",
      "\n",
      "Flipped array left-right : \n",
      " [[3 2 1 0]\n",
      " [7 6 5 4]]\n"
     ]
    }
   ],
   "source": [
    "import numpy as np \n",
    "  \n",
    "array = np.arange(8).reshape((2,4)) \n",
    "print(\"Original array : \\n\", array) \n",
    "  \n",
    "# fliplr : means flip left-right \n",
    "print(\"\\nFlipped array left-right : \\n\", np.fliplr(array)) "
   ]
  },
  {
   "cell_type": "markdown",
   "metadata": {},
   "source": [
    "flipud() method also flips the array but in the up or down direction. The rows are preserved in this case but they can appear in a different order in the result.\n",
    "\n",
    "Syntax: np.flipud(arr)"
   ]
  },
  {
   "cell_type": "code",
   "execution_count": 5,
   "metadata": {},
   "outputs": [
    {
     "name": "stdout",
     "output_type": "stream",
     "text": [
      "Original array : \n",
      " [[0 1 2 3]\n",
      " [4 5 6 7]]\n",
      "\n",
      "Flipped array : \n",
      " [[4 5 6 7]\n",
      " [0 1 2 3]]\n"
     ]
    }
   ],
   "source": [
    "import numpy as np \n",
    "  \n",
    "array = np.arange(8).reshape((2,4)) \n",
    "print(\"Original array : \\n\", array) \n",
    "  \n",
    "# flipud : means flip up-down \n",
    "print(\"\\nFlipped array : \\n\", np.flipud(array)) "
   ]
  }
 ],
 "metadata": {
  "kernelspec": {
   "display_name": "base",
   "language": "python",
   "name": "python3"
  },
  "language_info": {
   "codemirror_mode": {
    "name": "ipython",
    "version": 3
   },
   "file_extension": ".py",
   "mimetype": "text/x-python",
   "name": "python",
   "nbconvert_exporter": "python",
   "pygments_lexer": "ipython3",
   "version": "3.11.5"
  }
 },
 "nbformat": 4,
 "nbformat_minor": 2
}
